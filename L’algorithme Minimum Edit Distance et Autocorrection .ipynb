{
 "cells": [
  {
   "cell_type": "markdown",
   "id": "e4f8eabf",
   "metadata": {},
   "source": [
    "\n",
    "Décomposons les étapes pour mettre en œuvre les tâches décrites dans l'exercice. Nous procéderons aux étapes suivantes :\n",
    "\n",
    "##### Implémentez l'algorithme de base d'édition de distance.\n",
    "##### Améliorez la fonction pour enregistrer la trace arrière pour l'alignement.\n",
    "##### Modifiez les fonctions de coût à l'aide des coûts de contiguïté du graphique QWERTY.\n",
    "##### Implémentez un correcteur orthographique simple à l’aide de l’algorithme de distance d’édition.\n",
    "##### Optimisez le correcteur orthographique avec des heuristiques supplémentaires.\n",
    "### 1. Implémenter l'algorithme de base d'édition de distance\n",
    "L'algorithme de base de distance d'édition (distance de Levenshtein) calcule le nombre minimum d'opérations requises pour transformer une chaîne en une autre. Les opérations autorisées sont l'insertion, la suppression et la substitution.\n",
    "\n"
   ]
  },
  {
   "cell_type": "code",
   "execution_count": null,
   "id": "1a25d58f",
   "metadata": {},
   "outputs": [],
   "source": []
  },
  {
   "cell_type": "code",
   "execution_count": 1,
   "id": "af70b26c",
   "metadata": {},
   "outputs": [],
   "source": [
    "def edit_distance(s1, s2):\n",
    "    m, n = len(s1), len(s2)\n",
    "    dp = [[0] * (n + 1) for _ in range(m + 1)]\n",
    "\n",
    "    for i in range(m + 1):\n",
    "        for j in range(n + 1):\n",
    "            if i == 0:\n",
    "                dp[i][j] = j\n",
    "            elif j == 0:\n",
    "                dp[i][j] = i\n",
    "            elif s1[i - 1] == s2[j - 1]:\n",
    "                dp[i][j] = dp[i - 1][j - 1]\n",
    "            else:\n",
    "                dp[i][j] = 1 + min(dp[i][j - 1], dp[i - 1][j], dp[i - 1][j - 1])\n",
    "\n",
    "    return dp[m][n]\n"
   ]
  },
  {
   "cell_type": "code",
   "execution_count": null,
   "id": "a5250595",
   "metadata": {},
   "outputs": [],
   "source": []
  },
  {
   "cell_type": "markdown",
   "id": "393749c0",
   "metadata": {},
   "source": [
    "### 2. Améliorer la fonction de backtrace\n",
    "Améliorer la fonction pour enregistrer également la trace arrière et imprimer l'alignement entre les deux chaînes implique le suivi des opérations effectuées."
   ]
  },
  {
   "cell_type": "code",
   "execution_count": 2,
   "id": "89520d4c",
   "metadata": {},
   "outputs": [
    {
     "name": "stdout",
     "output_type": "stream",
     "text": [
      "k -> s\n",
      "i -> i\n",
      "t -> t\n",
      "t -> t\n",
      "e -> i\n",
      "n -> n\n",
      "- -> g\n",
      "Edit Distance: 3\n"
     ]
    }
   ],
   "source": [
    "def edit_distance_with_backtrace(s1, s2):\n",
    "    m, n = len(s1), len(s2)\n",
    "    dp = [[0] * (n + 1) for _ in range(m + 1)]\n",
    "    backtrace = [[None] * (n + 1) for _ in range(m + 1)]\n",
    "\n",
    "    for i in range(m + 1):\n",
    "        for j in range(n + 1):\n",
    "            if i == 0:\n",
    "                dp[i][j] = j\n",
    "                backtrace[i][j] = 'insert'\n",
    "            elif j == 0:\n",
    "                dp[i][j] = i\n",
    "                backtrace[i][j] = 'delete'\n",
    "            elif s1[i - 1] == s2[j - 1]:\n",
    "                dp[i][j] = dp[i - 1][j - 1]\n",
    "                backtrace[i][j] = 'match'\n",
    "            else:\n",
    "                choices = [(dp[i][j - 1] + 1, 'insert'), \n",
    "                           (dp[i - 1][j] + 1, 'delete'), \n",
    "                           (dp[i - 1][j - 1] + 1, 'substitute')]\n",
    "                dp[i][j], backtrace[i][j] = min(choices)\n",
    "\n",
    "    def reconstruct_path():\n",
    "        alignment = []\n",
    "        i, j = m, n\n",
    "        while i > 0 or j > 0:\n",
    "            op = backtrace[i][j]\n",
    "            if op == 'match' or op == 'substitute':\n",
    "                alignment.append((s1[i - 1], s2[j - 1]))\n",
    "                i -= 1\n",
    "                j -= 1\n",
    "            elif op == 'insert':\n",
    "                alignment.append(('-', s2[j - 1]))\n",
    "                j -= 1\n",
    "            elif op == 'delete':\n",
    "                alignment.append((s1[i - 1], '-'))\n",
    "                i -= 1\n",
    "        return alignment[::-1]\n",
    "\n",
    "    alignment = reconstruct_path()\n",
    "    for a, b in alignment:\n",
    "        print(f'{a} -> {b}')\n",
    "    \n",
    "    return dp[m][n]\n",
    "\n",
    "# Example usage\n",
    "s1 = \"kitten\"\n",
    "s2 = \"sitting\"\n",
    "print(f\"Edit Distance: {edit_distance_with_backtrace(s1, s2)}\")\n"
   ]
  },
  {
   "cell_type": "code",
   "execution_count": null,
   "id": "1edbc683",
   "metadata": {},
   "outputs": [],
   "source": []
  },
  {
   "cell_type": "markdown",
   "id": "e12844f2",
   "metadata": {},
   "source": [
    "#### 3. Modify Cost Functions with QWERTY Adjacency\n",
    "To handle QWERTY adjacency, we need to read the QWERTY graph and adjust the substitution costs based on adjacency."
   ]
  },
  {
   "cell_type": "code",
   "execution_count": 4,
   "id": "5ff5c163",
   "metadata": {},
   "outputs": [
    {
     "name": "stdout",
     "output_type": "stream",
     "text": [
      "QWERTY Edit Distance: 3\n"
     ]
    }
   ],
   "source": [
    "def load_qwerty_graph(filepath):\n",
    "    qwerty_adj = {}\n",
    "    with open(filepath, 'r') as file:\n",
    "        for line in file:\n",
    "            parts = line.strip().split()\n",
    "            key = parts[0]\n",
    "            adj_keys = parts[1:]\n",
    "            qwerty_adj[key] = adj_keys\n",
    "    return qwerty_adj\n",
    "\n",
    "def qwerty_substitution_cost(c1, c2, qwerty_adj):\n",
    "    if c1 == c2:\n",
    "        return 0\n",
    "    elif c1 in qwerty_adj and c2 in qwerty_adj[c1]:\n",
    "        return 0.5\n",
    "    else:\n",
    "        return 1\n",
    "\n",
    "def edit_distance_qwerty(s1, s2, qwerty_adj):\n",
    "    m, n = len(s1), len(s2)\n",
    "    dp = [[0] * (n + 1) for _ in range(m + 1)]\n",
    "\n",
    "    for i in range(m + 1):\n",
    "        for j in range(n + 1):\n",
    "            if i == 0:\n",
    "                dp[i][j] = j\n",
    "            elif j == 0:\n",
    "                dp[i][j] = i\n",
    "            elif s1[i - 1] == s2[j - 1]:\n",
    "                dp[i][j] = dp[i - 1][j - 1]\n",
    "            else:\n",
    "                subs_cost = qwerty_substitution_cost(s1[i - 1], s2[j - 1], qwerty_adj)\n",
    "                dp[i][j] = min(dp[i][j - 1] + 1, dp[i - 1][j] + 1, dp[i - 1][j - 1] + subs_cost)\n",
    "\n",
    "    return dp[m][n]\n",
    "\n",
    "# Load QWERTY adjacency graph\n",
    "qwerty_adj = load_qwerty_graph('qwerty_graph.txt')\n",
    "\n",
    "# Example usage\n",
    "s1 = \"kitten\"\n",
    "s2 = \"sitting\"\n",
    "print(f\"QWERTY Edit Distance: {edit_distance_qwerty(s1, s2, qwerty_adj)}\")\n"
   ]
  },
  {
   "cell_type": "markdown",
   "id": "34c37266",
   "metadata": {},
   "source": [
    "### 4. Implémenter un correcteur orthographique simple\n",
    "Le correcteur orthographique utilisera la distance d'édition pour trouver les mots les plus proches d'un dictionnaire."
   ]
  },
  {
   "cell_type": "markdown",
   "id": "634347d9",
   "metadata": {},
   "source": [
    "Soit w un mot contenant une erreur d’orthographe, calculer la distance entre w et tous les mot \n",
    "d’un dictionnaire contenant les mots valides puis proposer les k corrections possibles (les k \n",
    "plus proches mot selon la distance d'édition minimale). "
   ]
  },
  {
   "cell_type": "code",
   "execution_count": 6,
   "id": "692d606d",
   "metadata": {},
   "outputs": [
    {
     "name": "stdout",
     "output_type": "stream",
     "text": [
      "Suggestions for 'sittng': [('sitting', 1), ('spitting', 2), ('sittings', 2), ('slitting', 2), ('hitting', 2)]\n"
     ]
    }
   ],
   "source": [
    "def load_dictionary(filepath):\n",
    "    with open(filepath, 'r') as file:\n",
    "        return set(file.read().split())\n",
    "\n",
    "def spell_checker(word, dictionary, qwerty_adj, k=5):\n",
    "    distances = [(dict_word, edit_distance_qwerty(word, dict_word, qwerty_adj)) for dict_word in dictionary]\n",
    "    distances.sort(key=lambda x: x[1])\n",
    "    return distances[:k]\n",
    "\n",
    "# Load dictionary\n",
    "dictionary = load_dictionary('big.txt')\n",
    "\n",
    "# Example usage\n",
    "word = \"sittng\"\n",
    "suggestions = spell_checker(word, dictionary, qwerty_adj)\n",
    "print(f\"Suggestions for '{word}': {suggestions}\")\n"
   ]
  },
  {
   "cell_type": "markdown",
   "id": "479f1d1d",
   "metadata": {},
   "source": [
    "### 5. Optimiser le correcteur orthographique\n",
    "L'utilisation d'heuristiques supplémentaires pour optimiser le correcteur orthographique implique de filtrer le dictionnaire avant de calculer les distances d'édition."
   ]
  },
  {
   "cell_type": "code",
   "execution_count": 7,
   "id": "21661ae1",
   "metadata": {},
   "outputs": [
    {
     "name": "stdout",
     "output_type": "stream",
     "text": [
      "Optimized Suggestions for 'sittng': [('sitting', 1), ('stung', 2), ('sifting', 2), ('setting', 2), ('sting', 2)]\n"
     ]
    }
   ],
   "source": [
    "def spell_checker_optimized(word, dictionary, qwerty_adj, k=5):\n",
    "    first_letter = word[0]\n",
    "    similar_length_words = {w for w in dictionary if len(w) in range(len(word)-1, len(word)+2)}\n",
    "    filtered_words = {w for w in similar_length_words if w[0] == first_letter}\n",
    "    distances = [(dict_word, edit_distance_qwerty(word, dict_word, qwerty_adj)) for dict_word in filtered_words]\n",
    "    distances.sort(key=lambda x: x[1])\n",
    "    return distances[:k]\n",
    "\n",
    "# Example usage\n",
    "word = \"sittng\"\n",
    "suggestions = spell_checker_optimized(word, dictionary, qwerty_adj)\n",
    "print(f\"Optimized Suggestions for '{word}': {suggestions}\")\n"
   ]
  },
  {
   "cell_type": "code",
   "execution_count": null,
   "id": "ee113d81",
   "metadata": {},
   "outputs": [],
   "source": []
  }
 ],
 "metadata": {
  "kernelspec": {
   "display_name": "Python 3 (ipykernel)",
   "language": "python",
   "name": "python3"
  },
  "language_info": {
   "codemirror_mode": {
    "name": "ipython",
    "version": 3
   },
   "file_extension": ".py",
   "mimetype": "text/x-python",
   "name": "python",
   "nbconvert_exporter": "python",
   "pygments_lexer": "ipython3",
   "version": "3.9.13"
  }
 },
 "nbformat": 4,
 "nbformat_minor": 5
}
